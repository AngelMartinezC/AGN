{
 "cells": [
  {
   "cell_type": "markdown",
   "metadata": {},
   "source": [
    "## Verify "
   ]
  },
  {
   "cell_type": "code",
   "execution_count": 1,
   "metadata": {},
   "outputs": [],
   "source": [
    "import numpy as np\n",
    "import matplotlib.pyplot as plt"
   ]
  },
  {
   "cell_type": "code",
   "execution_count": 2,
   "metadata": {},
   "outputs": [],
   "source": [
    "#Physical constants\n",
    "h = 6.62607004e-34  # Planck constant\n",
    "c = 2.99792458e8       # Light speed\n",
    "k = 1.38064852e-23  # Boltzmann constant\n",
    "T = 100"
   ]
  },
  {
   "cell_type": "code",
   "execution_count": 46,
   "metadata": {},
   "outputs": [],
   "source": [
    "# Stregth Collisions and transition probabilities\n",
    "values = {'OIII':{'Ods':0.58, 'Lds':4363,'Ads':1.6, 'g':3.00,\n",
    "                  'Ops':0.29, 'Lps':2321, 'Aps':2.3e-1,\n",
    "                  'Odp1':2.29, 'Ldp1':4959, 'Adp1':6.8e-3,\n",
    "                  'Odp2':2.29, 'Ldp2':5007, 'Adp2':2.0e-2},\n",
    "          'NII' :{'Ods':0.83, 'Lds':5755,'Ads':1.0, 'g':3.86,\n",
    "                  'Ops':0.29, 'Lps':3063, 'Aps':3.3e-2,\n",
    "                  'Odp1':2.64, 'Ldp1':6548, 'Adp1':9.8e-4,\n",
    "                  'Odp2':2.64, 'Ldp2':6583, 'Adp2':3.0e-3},\n",
    "          'SII' :{'Oab':2.76, 'Oag':4.14, 'Obg':7.47,\n",
    "                  'Aab':8.8e-4, 'Aag':2.6e-4, 'Lab':6731,\n",
    "                  'Lag':6716},\n",
    "          'OII' :{'Oab':0.536, 'Oag':0.804, 'Obg':1.17,\n",
    "                  'Aab':1.6e-4, 'Aag':3.6e-5, 'Lab':3726,\n",
    "                  'Lag':3729}}"
   ]
  },
  {
   "cell_type": "code",
   "execution_count": 63,
   "metadata": {},
   "outputs": [],
   "source": [
    "dic = values['NII']\n",
    "val = values['SII']"
   ]
  },
  {
   "cell_type": "code",
   "execution_count": 64,
   "metadata": {},
   "outputs": [],
   "source": [
    "#Transition values\n",
    "Ods,  Lds,  Ads  = dic['Ods'], dic['Lds'], dic['Ads']\n",
    "Ops,  Lps,  Aps  = dic['Ops'], dic['Lps'], dic['Aps']\n",
    "Opd1, Lpd1, Adp1 = dic['Odp1'], dic['Ldp1'], dic['Adp1']\n",
    "Opd2, Lpd2, Adp2 = dic['Odp2'], dic['Ldp2'], dic['Adp2']\n",
    "Osd,  Lsd,  Asd  = Ods,  Lds,  Ads\n",
    "Osp,  Lsp,  Asp  = Ops,  Lps,  Aps\n",
    "Odp1, Ldp1, Apd1 = Opd1, Lpd1, Adp1\n",
    "Odp2, Ldp2, Apd2 = Opd2, Lpd2, Adp2\n",
    "Oab, Oag, Obg = val['Oab'], val['Oag'], val['Obg']\n",
    "Aab, Aag = val['Aab'], val['Aag']\n",
    "gd, gs = 5, 1\n",
    "gb, gg = 4, 6\n",
    "g = dic['g']\n",
    "V = 8.6e-6\n",
    "C = V/(T**0.5)"
   ]
  },
  {
   "cell_type": "code",
   "execution_count": 65,
   "metadata": {},
   "outputs": [],
   "source": [
    "# Exponential function\n",
    "def E(val,T):\n",
    "    y = np.exp(-h*c*10**10/(k*T*val))\n",
    "    return y"
   ]
  },
  {
   "cell_type": "code",
   "execution_count": 66,
   "metadata": {},
   "outputs": [
    {
     "name": "stdout",
     "output_type": "stream",
     "text": [
      "f1: 0.013113322193528787\n",
      "f2: 107304.16211342457\n",
      "f3: 0.10633928833347998\n",
      "f4: 171.159723515429\n",
      "exp: -25000.475305433887\n"
     ]
    }
   ],
   "source": [
    "# Constant values for 2p2\n",
    "f1 = gd*Adp2*Lsd/(gs*Asd*Ldp2)\n",
    "f2 = gs*(Asd+Asp)/(g*V*Ops)\n",
    "f3 = gs*Asd/(g*V*Opd2)\n",
    "f4 = gd*Adp2/(g*V*Opd2)\n",
    "exp = -h*c*10**10/(k*Lsd)\n",
    "print(\"f1: {}\\nf2: {}\\nf3: {}\\nf4: {}\".format(f1,f2,f3/f2,f4))\n",
    "print(\"exp: {}\".format(exp))"
   ]
  },
  {
   "cell_type": "code",
   "execution_count": 100,
   "metadata": {},
   "outputs": [
    {
     "name": "stdout",
     "output_type": "stream",
     "text": [
      "Constant: 0.2629848783694938\n"
     ]
    }
   ],
   "source": [
    "# Constant values for 2p3\n",
    "ff1 = 1+(Obg/Oab)+(Obg/Oag)\n",
    "ff2 = gb/Oab\n",
    "ff3 = gg/Oag\n",
    "print(\"Constant: {}\".format(ff3/ff1))"
   ]
  },
  {
   "cell_type": "markdown",
   "metadata": {},
   "source": [
    "## Equations for $2p^{2}$-like ions"
   ]
  },
  {
   "cell_type": "markdown",
   "metadata": {},
   "source": [
    "These two equations where found on Osterbrock, Donald 2006\n",
    "\n",
    "O[III] $$\\frac{j_{\\lambda 4959}+j_{\\lambda 5007}}{j_{\\lambda 4363}} = \\frac{7.90e^{3.29\\times 10^4/T}}{1+4.5\\times 10^{-4}N_e/T^{1/2}}$$\n",
    "\n",
    "N[II] $$\\frac{j_{\\lambda 6548}+j_{\\lambda 6583}}{j_{\\lambda 5755}} = \\frac{8.23e^{2.50\\times 10^4/T}}{1+4.4\\times 10^{-3}N_e/T^{1/2}}$$\n",
    "\n",
    "De acuerdo a las notas de clase\n",
    "\n",
    "O[III] $$\\frac{j_{DP}}{j_{SD}}=0.054e^{32976/T}\\frac{\\left[ \\frac{Ne}{T^{1/2}}+2.44\\times 10^5\\left( 1+0.1107e^{-32976/T} \\right) \\right]}  {\\frac{Ne}{T^{1/2}} +1692}$$\n",
    "\n",
    "N[II] $$\\frac{j_{DP}}{j_{SD}}=0.013e^{25000/T}\\frac{\\left[ \\frac{Ne}{T^{1/2}}+1.07\\times 10^5\\left( 1+0.106e^{-25000/T} \\right) \\right]}  {\\frac{Ne}{T^{1/2}} +171}$$"
   ]
  },
  {
   "cell_type": "code",
   "execution_count": 42,
   "metadata": {},
   "outputs": [],
   "source": [
    "def ratio_book_OIII(Ne,T):\n",
    "    up = 7.9*np.exp(3.29e4/T)\n",
    "    down = 1+4.5e-4*Ne/(T**0.5)\n",
    "    return up/down\n",
    "\n",
    "def ratio_book_NII(Ne,T):\n",
    "    up = 8.23*np.exp(2.50e4/T)\n",
    "    down = 1+4.4e-3*Ne/(T**0.5)\n",
    "    return up/down"
   ]
  },
  {
   "cell_type": "markdown",
   "metadata": {},
   "source": [
    "### Complete Equation\n",
    "Equation with no Taylor series expansion"
   ]
  },
  {
   "cell_type": "code",
   "execution_count": 43,
   "metadata": {},
   "outputs": [],
   "source": [
    "def ratio_normal(Ne,T):\n",
    "    f1 = gd*Adp2*Lsd/(gs*Asd*Ldp2)\n",
    "    f2 = gs*(Asd+Asp)/(g*V*Ops)\n",
    "    f3 = gs*Asd/(g*V*Opd2)\n",
    "    f4 = gd*Adp2/(g*V*Opd2)\n",
    "    \n",
    "    fac = f1*E(-Lsd,T)\n",
    "    up = Ne/(T**0.5) + f2*(1+(f3/f2)*E(Lsd,T)) + \\\n",
    "        Ne/(g*T**0.5)*(Osd/Opd2)*E(Lsd,T)\n",
    "    down = Ne/(T**0.5) + f4 + \\\n",
    "        Ne*Ods/(g*Opd2)*E(Lds,T)*E(Ldp2,T)*E(-Lps,T)\n",
    "    return fac*up/down"
   ]
  },
  {
   "cell_type": "markdown",
   "metadata": {},
   "source": [
    "### Approximated equation"
   ]
  },
  {
   "cell_type": "code",
   "execution_count": 44,
   "metadata": {},
   "outputs": [],
   "source": [
    "def ratio_approx(Ne,T):\n",
    "    f1 = gd*Adp2*Lsd/(gs*Asd*Ldp2)\n",
    "    f2 = gs*(Asd+Asp)/(g*V*Ops)\n",
    "    f3 = gs*Asd/(g*V*Opd2)\n",
    "    f4 = gd*Adp2/(g*V*Opd2)\n",
    "    fac = f1*E(-Lsd,T)\n",
    "    up = Ne/(T**0.5)+f2*(1+(f3/f2)*E(Lsd,T))\n",
    "    down = Ne/(T**0.5) + f4\n",
    "    return fac*up/down"
   ]
  },
  {
   "cell_type": "markdown",
   "metadata": {},
   "source": [
    "### Plots"
   ]
  },
  {
   "cell_type": "code",
   "execution_count": 45,
   "metadata": {
    "scrolled": true
   },
   "outputs": [
    {
     "data": {
      "image/png": "[encoded data removed]",
      "text/plain": [
       "<Figure size 432x288 with 1 Axes>"
      ]
     },
     "metadata": {},
     "output_type": "display_data"
    }
   ],
   "source": [
    "T = np.linspace(1000,20000,1000000)\n",
    "plt.title('2p$^{2}$-like elements')\n",
    "plt.xlim(4000,20000)\n",
    "plt.ylim(1,2e4)\n",
    "plt.semilogy(T,ratio_approx(Ne=100,T=T),label='Approx_e')\n",
    "plt.semilogy(T,ratio_normal(Ne=100,T=T),label='Normal_e')\n",
    "plt.semilogy(T,ratio_book_NII(Ne=100,T=T),label='Book_e')\n",
    "plt.xlabel('Temperature [K]')\n",
    "plt.ylabel('Line ratio')\n",
    "plt.legend()\n",
    "plt.grid()"
   ]
  },
  {
   "cell_type": "markdown",
   "metadata": {},
   "source": [
    "## Equations for $2p^{3}$-like ions\n",
    "\n",
    "S[II] $$\\frac{j_{6716}}{j_{6731}}=\\frac{3A_{6716}}{2A_{6731}}\\left( \\frac{N_e C+0.26A_{6731}}{N_e C+0.26A_{6716}} \\right)$$\n",
    "\n",
    "O[II] $$\\frac{j_{3726}}{j_{3729}}=\\frac{3A_{3726}}{2A_{3729}}\\left( \\frac{N_e C+1.60A_{3729}}{N_e C+1.60A_{3726}} \\right)$$"
   ]
  },
  {
   "cell_type": "code",
   "execution_count": 91,
   "metadata": {},
   "outputs": [],
   "source": [
    "def ratio(Ne,T,ion='OII'):\n",
    "    \n",
    "    val = values[ion]\n",
    "    V = 8.6e-6\n",
    "    C = V/(T**0.5)\n",
    "    Oab, Oag, Obg = val['Oab'], val['Oag'], val['Obg']\n",
    "    Aab, Aag = val['Aab'], val['Aag']\n",
    "    Lab, Lag = val['Lab'], val['Lag']\n",
    "\n",
    "    ff1 = 1+(Obg/Oab)+(Obg/Oag)\n",
    "    ff2 = gb/Oab\n",
    "    ff3 = gg/Oag\n",
    "    ff3/ff1\n",
    "    \n",
    "    up = gg*Aag*Lab*(Ne*C+(ff3/ff1)*Aab)\n",
    "    down = gb*Aab*Lag*(Ne*C+(ff3/ff1)*Aag)\n",
    "\n",
    "    return up/down"
   ]
  },
  {
   "cell_type": "code",
   "execution_count": 106,
   "metadata": {},
   "outputs": [
    {
     "data": {
      "image/png": "[encoded data removed]",
      "text/plain": [
       "<Figure size 432x288 with 1 Axes>"
      ]
     },
     "metadata": {},
     "output_type": "display_data"
    }
   ],
   "source": [
    "Ne = np.linspace(1,1e6,1000000)\n",
    "plt.title('2p$^{3}$-like elements')\n",
    "plt.xlim(1,1e5)\n",
    "plt.semilogx(Ne,ratio(Ne=Ne,T=5000,ion='SII'),label='SII')\n",
    "plt.semilogx(Ne,ratio(Ne=Ne,T=5000,ion='OII'),label='OII')\n",
    "plt.xlabel('Electronic density')\n",
    "plt.ylabel('Razón entre líneas')\n",
    "plt.legend()\n",
    "plt.grid()"
   ]
  },
  {
   "cell_type": "code",
   "execution_count": null,
   "metadata": {},
   "outputs": [],
   "source": []
  }
 ],
 "metadata": {
  "kernelspec": {
   "display_name": "Python 3",
   "language": "python",
   "name": "python3"
  },
  "language_info": {
   "codemirror_mode": {
    "name": "ipython",
    "version": 3
   },
   "file_extension": ".py",
   "mimetype": "text/x-python",
   "name": "python",
   "nbconvert_exporter": "python",
   "pygments_lexer": "ipython3",
   "version": "3.7.1"
  }
 },
 "nbformat": 4,
 "nbformat_minor": 2
}
